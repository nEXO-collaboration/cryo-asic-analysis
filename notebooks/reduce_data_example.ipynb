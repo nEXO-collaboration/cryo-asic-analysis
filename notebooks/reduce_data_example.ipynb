{
 "cells": [
  {
   "cell_type": "code",
   "execution_count": 6,
   "metadata": {
    "tags": []
   },
   "outputs": [],
   "source": [
    "import sys\n",
    "import glob\n",
    "import yaml\n",
    "import pickle\n",
    "import os\n",
    "sys.path.append(\"../\")\n",
    "\n",
    "import DataReduction \n",
    "\n"
   ]
  },
  {
   "cell_type": "code",
   "execution_count": 15,
   "metadata": {
    "tags": []
   },
   "outputs": [
    {
     "name": "stdout",
     "output_type": "stream",
     "text": [
      "['/p/lustre2/nexouser/data/StanfordData/ChargeModule/LXe_Run1_Processed_Data/Gamma_Data_Post_Surgery_7_15_24/Gamma_Data_Post_Surgery_5kV_7_15_24_initcryo_4_6g_24pt_1000us_file797.p', '/p/lustre2/nexouser/data/StanfordData/ChargeModule/LXe_Run1_Processed_Data/Gamma_Data_Post_Surgery_7_15_24/Gamma_Data_Post_Surgery_5kV_7_15_24_initcryo_4_6g_24pt_1000us_file383.p']\n"
     ]
    }
   ],
   "source": [
    "#change path!\n",
    "input_path = \"/p/lustre2/nexouser/data/StanfordData/ChargeModule/LXe_Run1_Processed_Data/Gamma_Data_Post_Surgery_7_15_24/\"\n",
    "#change path!\n",
    "output_path = \"/p/lustre2/nexouser/data/StanfordData/angelico/LXe_Run1_Processed_Data/Gamma_Data_Post_Surgery_7_15_24/Processed_Data/\"\n",
    "input_files = glob.glob(input_path + \"*6g_24pt*.p\")\n",
    "print(input_files[:2])"
   ]
  },
  {
   "cell_type": "code",
   "execution_count": 3,
   "metadata": {
    "tags": []
   },
   "outputs": [],
   "source": [
    "config_path = \"../config/analysisconfig.yml\"\n",
    "#either pass this directly to the class, or load it and modify with gain/pt settings corrected. \n",
    "\n",
    "#with open(config_path, 'r') as f:\n",
    "#    config = yaml.safe_load(f)\n",
    "\n",
    "#config[\"gain\"] = 6 \n"
   ]
  },
  {
   "cell_type": "code",
   "execution_count": 16,
   "metadata": {
    "tags": []
   },
   "outputs": [],
   "source": [
    "#initialize the DataReduction class\n",
    "dr = DataReduction.DataReduction(config_path, input_files[:4])"
   ]
  },
  {
   "cell_type": "code",
   "execution_count": 17,
   "metadata": {
    "tags": []
   },
   "outputs": [
    {
     "name": "stdout",
     "output_type": "stream",
     "text": [
      "Combining files...\n",
      "On file /p/lustre2/nexouser/data/StanfordData/ChargeModule/LXe_Run1_Processed_Data/Gamma_Data_Post_Surgery_7_15_24/Gamma_Data_Post_Surgery_5kV_7_15_24_initcryo_4_6g_24pt_1000us_file797.p\n",
      "On file /p/lustre2/nexouser/data/StanfordData/ChargeModule/LXe_Run1_Processed_Data/Gamma_Data_Post_Surgery_7_15_24/Gamma_Data_Post_Surgery_5kV_7_15_24_initcryo_4_6g_24pt_1000us_file383.p\n",
      "On file /p/lustre2/nexouser/data/StanfordData/ChargeModule/LXe_Run1_Processed_Data/Gamma_Data_Post_Surgery_7_15_24/Gamma_Data_Post_Surgery_5kV_7_15_24_initcryo_4_6g_24pt_1000us_file741.p\n",
      "On file /p/lustre2/nexouser/data/StanfordData/ChargeModule/LXe_Run1_Processed_Data/Gamma_Data_Post_Surgery_7_15_24/Gamma_Data_Post_Surgery_5kV_7_15_24_initcryo_4_6g_24pt_1000us_file204.p\n"
     ]
    }
   ],
   "source": [
    "#load input data of many files, which combines the dataframes into one\n",
    "dr.reduce_data()\n",
    "dr.save_reduced_df(output_path + \"reduced_6g_24pt.p\")"
   ]
  },
  {
   "cell_type": "code",
   "execution_count": 19,
   "metadata": {
    "tags": []
   },
   "outputs": [
    {
     "name": "stdout",
     "output_type": "stream",
     "text": [
      "3207\n"
     ]
    }
   ],
   "source": []
  },
  {
   "cell_type": "code",
   "execution_count": null,
   "metadata": {},
   "outputs": [],
   "source": []
  }
 ],
 "metadata": {
  "kernelspec": {
   "display_name": "angelico-2024",
   "language": "python",
   "name": "angelico-2024"
  },
  "language_info": {
   "codemirror_mode": {
    "name": "ipython",
    "version": 3
   },
   "file_extension": ".py",
   "mimetype": "text/x-python",
   "name": "python",
   "nbconvert_exporter": "python",
   "pygments_lexer": "ipython3",
   "version": "3.9.12"
  }
 },
 "nbformat": 4,
 "nbformat_minor": 4
}
