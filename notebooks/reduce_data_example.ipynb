{
 "cells": [
  {
   "cell_type": "code",
   "execution_count": 6,
   "metadata": {},
   "outputs": [],
   "source": [
    "import sys\n",
    "import glob\n",
    "import yaml\n",
    "import pickle\n",
    "sys.path.append(\"../\")\n",
    "\n",
    "import DataReduction \n",
    "\n"
   ]
  },
  {
   "cell_type": "code",
   "execution_count": 2,
   "metadata": {},
   "outputs": [],
   "source": [
    "input_path = \"/p/lustre2/nexouser/data/StanfordData/ChargeModule/LXe_Run1_Processed_Data/Gamma_Data_Post_Surgery_7_15_24/\"\n",
    "output_path = \"/p/lustre2/nexouser/data/StanfordData/ChargeModule/LXe_Run1_Processed_Data/Gamma_Data_Post_Surgery_7_15_24/Processed_Data/\"\n",
    "input_files = glob.glob(input_path + \"*6g_24pt*.p\")\n"
   ]
  },
  {
   "cell_type": "code",
   "execution_count": 3,
   "metadata": {},
   "outputs": [],
   "source": [
    "config_path = \"../config/analysisconfig.yml\"\n",
    "#either pass this directly to the class, or load it and modify with gain/pt settings corrected. \n",
    "\n",
    "#with open(config_path, 'r') as f:\n",
    "#    config = yaml.safe_load(f)\n",
    "\n",
    "#config[\"gain\"] = 6 \n"
   ]
  },
  {
   "cell_type": "code",
   "execution_count": 4,
   "metadata": {},
   "outputs": [],
   "source": [
    "#initialize the DataReduction class\n",
    "dr = DataReduction.DataReduction(config_path, input_files)"
   ]
  },
  {
   "cell_type": "code",
   "execution_count": 5,
   "metadata": {},
   "outputs": [
    {
     "data": {
      "text/plain": [
       "{'evidx': 'None',\n",
       " 'timestamp': 'None',\n",
       " 'clusters': [],\n",
       " 'n_clusters': 'None',\n",
       " 'total_charge': 'None',\n",
       " 'x': 'None',\n",
       " 'y': 'None',\n",
       " 'z': 'None',\n",
       " 't': 'None',\n",
       " 'ch0_noise': 'None',\n",
       " 'ch0_baseline': 'None'}"
      ]
     },
     "execution_count": 5,
     "metadata": {},
     "output_type": "execute_result"
    }
   ],
   "source": [
    "#load input data of many files, which combines the dataframes into one\n",
    "dr.load_input_data()\n",
    "#if this is the first time doing this, and the input data is in many files,\n",
    "#you may want to save the combined file in the output directory for future use\n",
    "pickle.dump(dr.waveform_df, open(output_path + \"combined_6g_24pt.p\", \"wb\"))\n",
    "#in the future, as input_files, you can now just pass [output_path + \"combined_6g_24pt.p\"]\n",
    "#and the indexes of this dataframe will be used to back-track where the waveforms are for\n",
    "#a particular evidx saved in reduced data. "
   ]
  },
  {
   "cell_type": "code",
   "execution_count": null,
   "metadata": {},
   "outputs": [],
   "source": [
    "#initialize the data reduction with this combined file\n",
    "dr = DataReduction.DataReduction(config_path, [output_path + \"combined_6g_24pt.p\"])"
   ]
  }
 ],
 "metadata": {
  "kernelspec": {
   "display_name": "llnl",
   "language": "python",
   "name": "python3"
  },
  "language_info": {
   "codemirror_mode": {
    "name": "ipython",
    "version": 3
   },
   "file_extension": ".py",
   "mimetype": "text/x-python",
   "name": "python",
   "nbconvert_exporter": "python",
   "pygments_lexer": "ipython3",
   "version": "3.11.8"
  }
 },
 "nbformat": 4,
 "nbformat_minor": 2
}
