{
 "cells": [
  {
   "cell_type": "code",
   "execution_count": 6,
   "metadata": {
    "tags": []
   },
   "outputs": [],
   "source": [
    "import sys\n",
    "import glob\n",
    "import yaml\n",
    "import pickle\n",
    "import os\n",
    "sys.path.append(\"../\")\n",
    "\n",
    "import DataReduction \n",
    "\n"
   ]
  },
  {
   "cell_type": "code",
   "execution_count": 15,
   "metadata": {
    "tags": []
   },
   "outputs": [
    {
     "name": "stdout",
     "output_type": "stream",
     "text": [
      "['/p/lustre2/nexouser/data/StanfordData/ChargeModule/LXe_Run1_Processed_Data/Gamma_Data_Post_Surgery_7_15_24/Gamma_Data_Post_Surgery_5kV_7_15_24_initcryo_4_6g_24pt_1000us_file797.p', '/p/lustre2/nexouser/data/StanfordData/ChargeModule/LXe_Run1_Processed_Data/Gamma_Data_Post_Surgery_7_15_24/Gamma_Data_Post_Surgery_5kV_7_15_24_initcryo_4_6g_24pt_1000us_file383.p']\n"
     ]
    }
   ],
   "source": [
    "#change path!\n",
    "input_path = \"/p/lustre2/nexouser/data/StanfordData/ChargeModule/LXe_Run1_Processed_Data/Gamma_Data_Post_Surgery_7_15_24/\"\n",
    "#change path!\n",
    "output_path = \"/p/lustre2/nexouser/data/StanfordData/angelico/LXe_Run1_Processed_Data/Gamma_Data_Post_Surgery_7_15_24/Processed_Data/\"\n",
    "input_files = glob.glob(input_path + \"*6g_24pt*.p\")\n",
    "print(input_files[:2])"
   ]
  },
  {
   "cell_type": "code",
   "execution_count": 3,
   "metadata": {
    "tags": []
   },
   "outputs": [],
   "source": [
    "config_path = \"../config/analysisconfig.yml\"\n",
    "#either pass this directly to the class, or load it and modify with gain/pt settings corrected. \n",
    "\n",
    "#with open(config_path, 'r') as f:\n",
    "#    config = yaml.safe_load(f)\n",
    "\n",
    "#config[\"gain\"] = 6 \n"
   ]
  },
  {
   "cell_type": "code",
   "execution_count": 16,
   "metadata": {
    "tags": []
   },
   "outputs": [],
   "source": [
    "#initialize the DataReduction class\n",
    "dr = DataReduction.DataReduction(config_path, input_files[:4])"
   ]
  },
  {
   "cell_type": "code",
   "execution_count": 17,
   "metadata": {
    "tags": []
   },
   "outputs": [
    {
     "name": "stdout",
     "output_type": "stream",
     "text": [
      "Combining files...\n",
      "On file /p/lustre2/nexouser/data/StanfordData/ChargeModule/LXe_Run1_Processed_Data/Gamma_Data_Post_Surgery_7_15_24/Gamma_Data_Post_Surgery_5kV_7_15_24_initcryo_4_6g_24pt_1000us_file797.p\n",
      "On file /p/lustre2/nexouser/data/StanfordData/ChargeModule/LXe_Run1_Processed_Data/Gamma_Data_Post_Surgery_7_15_24/Gamma_Data_Post_Surgery_5kV_7_15_24_initcryo_4_6g_24pt_1000us_file383.p\n",
      "On file /p/lustre2/nexouser/data/StanfordData/ChargeModule/LXe_Run1_Processed_Data/Gamma_Data_Post_Surgery_7_15_24/Gamma_Data_Post_Surgery_5kV_7_15_24_initcryo_4_6g_24pt_1000us_file741.p\n",
      "On file /p/lustre2/nexouser/data/StanfordData/ChargeModule/LXe_Run1_Processed_Data/Gamma_Data_Post_Surgery_7_15_24/Gamma_Data_Post_Surgery_5kV_7_15_24_initcryo_4_6g_24pt_1000us_file204.p\n"
     ]
    }
   ],
   "source": [
    "#load input data of many files, which combines the dataframes into one\n",
    "dr.load_input_data()\n",
    "#if this is the first time doing this, and the input data is in many files,\n",
    "#you may want to save the combined file in the output directory for future use\n",
    "if(os.path.exists(output_path) == False):\n",
    "    os.makedirs(output_path)\n",
    "pickle.dump([dr.waveform_df], open(output_path + \"combined_6g_24pt.p\", \"wb\"))\n",
    "#in the future, as input_files, you can now just pass [output_path + \"combined_6g_24pt.p\"]\n",
    "#and the indexes of this dataframe will be used to back-track where the waveforms are for\n",
    "#a particular evidx saved in reduced data. "
   ]
  },
  {
   "cell_type": "code",
   "execution_count": 18,
   "metadata": {
    "tags": []
   },
   "outputs": [],
   "source": [
    "#initialize the data reduction with this combined file\n",
    "dr = DataReduction.DataReduction(config_path, [output_path + \"combined_6g_24pt.p\"])\n",
    "dr.load_input_data()"
   ]
  },
  {
   "cell_type": "code",
   "execution_count": 19,
   "metadata": {
    "tags": []
   },
   "outputs": [
    {
     "name": "stdout",
     "output_type": "stream",
     "text": [
      "3207\n"
     ]
    }
   ],
   "source": []
  },
  {
   "cell_type": "code",
   "execution_count": null,
   "metadata": {},
   "outputs": [],
   "source": []
  }
 ],
 "metadata": {
  "kernelspec": {
   "display_name": "angelico-2024",
   "language": "python",
   "name": "angelico-2024"
  },
  "language_info": {
   "codemirror_mode": {
    "name": "ipython",
    "version": 3
   },
   "file_extension": ".py",
   "mimetype": "text/x-python",
   "name": "python",
   "nbconvert_exporter": "python",
   "pygments_lexer": "ipython3",
   "version": "3.9.12"
  }
 },
 "nbformat": 4,
 "nbformat_minor": 4
}
